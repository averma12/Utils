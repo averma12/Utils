{
  "nbformat": 4,
  "nbformat_minor": 0,
  "metadata": {
    "colab": {
      "provenance": [],
      "authorship_tag": "ABX9TyOC4yn1mRaN+YE7hEZGy0T4",
      "include_colab_link": true
    },
    "kernelspec": {
      "name": "python3",
      "display_name": "Python 3"
    },
    "language_info": {
      "name": "python"
    }
  },
  "cells": [
    {
      "cell_type": "markdown",
      "metadata": {
        "id": "view-in-github",
        "colab_type": "text"
      },
      "source": [
        "<a href=\"https://colab.research.google.com/github/averma12/Utils/blob/main/Graph_shit.ipynb\" target=\"_parent\"><img src=\"https://colab.research.google.com/assets/colab-badge.svg\" alt=\"Open In Colab\"/></a>"
      ]
    },
    {
      "cell_type": "code",
      "execution_count": 1,
      "metadata": {
        "id": "hdfinNtCqX-K"
      },
      "outputs": [],
      "source": [
        "graph = {\n",
        "    'A': ['B', 'C'],\n",
        "    'B': ['A', 'D', 'E'],\n",
        "    'C': ['A'],\n",
        "    'D': ['B'],\n",
        "    'E': ['B']\n",
        "}"
      ]
    },
    {
      "cell_type": "code",
      "source": [
        "def dfs(graph, start, visited=None):\n",
        "    if visited is None:\n",
        "        visited = set()\n",
        "\n",
        "    visited.add(start)\n",
        "    print(start)\n",
        "\n",
        "    for neighbor in graph[start]:\n",
        "        if neighbor not in visited:\n",
        "            dfs(graph, neighbor, visited)\n",
        "\n",
        "# Let's run it\n",
        "graph = {\n",
        "    'A': ['B', 'C'],\n",
        "    'B': ['A', 'D', 'E'],\n",
        "    'C': ['A'],\n",
        "    'D': ['B'],\n",
        "    'E': ['B']\n",
        "}\n",
        "\n",
        "dfs(graph, 'A')"
      ],
      "metadata": {
        "colab": {
          "base_uri": "https://localhost:8080/"
        },
        "id": "LhaxfvzWqk9p",
        "outputId": "dabb3bbe-3018-4210-f4f2-18eeff579dc6"
      },
      "execution_count": 2,
      "outputs": [
        {
          "output_type": "stream",
          "name": "stdout",
          "text": [
            "A\n",
            "B\n",
            "D\n",
            "E\n",
            "C\n"
          ]
        }
      ]
    },
    {
      "cell_type": "code",
      "source": [
        "text = \"\"\"RL\n",
        "AAA = (BBB, CCC)\n",
        "BBB = (DDD, EEE)\n",
        "CCC = (ZZZ, GGG)\n",
        "DDD = (DDD, DDD)\n",
        "EEE = (EEE, EEE)\n",
        "GGG = (GGG, GGG)\n",
        "ZZZ = (ZZZ, ZZZ)\"\"\"\n",
        "\n",
        "lines = text.splitlines()\n",
        "instructions = lines[0]  # First line is the instructions\n",
        "node_lines = lines[1:]   # Rest are the node definitions"
      ],
      "metadata": {
        "id": "XAzmfdgqrGmM"
      },
      "execution_count": 3,
      "outputs": []
    },
    {
      "cell_type": "code",
      "source": [
        "node_lines[0]"
      ],
      "metadata": {
        "colab": {
          "base_uri": "https://localhost:8080/",
          "height": 35
        },
        "id": "X5GIEZQzrbvT",
        "outputId": "38d06b99-2ec9-4304-c1c7-7ba0389ee460"
      },
      "execution_count": 5,
      "outputs": [
        {
          "output_type": "execute_result",
          "data": {
            "text/plain": [
              "'AAA = (BBB, CCC)'"
            ],
            "application/vnd.google.colaboratory.intrinsic+json": {
              "type": "string"
            }
          },
          "metadata": {},
          "execution_count": 5
        }
      ]
    },
    {
      "cell_type": "code",
      "source": [
        "graph = {}\n",
        "for line in node_lines:\n",
        "    line = line.split(\"=\")\n",
        "    # Let's print what we get before cleaning\n",
        "    print(f\"Key: '{line[0]}', Value: '{line[1]}'\")"
      ],
      "metadata": {
        "colab": {
          "base_uri": "https://localhost:8080/"
        },
        "id": "Eqv_FJWWreTB",
        "outputId": "597300e8-1746-40ce-ccb6-b558bdc4c47d"
      },
      "execution_count": 6,
      "outputs": [
        {
          "output_type": "stream",
          "name": "stdout",
          "text": [
            "Key: 'AAA ', Value: ' (BBB, CCC)'\n",
            "Key: 'BBB ', Value: ' (DDD, EEE)'\n",
            "Key: 'CCC ', Value: ' (ZZZ, GGG)'\n",
            "Key: 'DDD ', Value: ' (DDD, DDD)'\n",
            "Key: 'EEE ', Value: ' (EEE, EEE)'\n",
            "Key: 'GGG ', Value: ' (GGG, GGG)'\n",
            "Key: 'ZZZ ', Value: ' (ZZZ, ZZZ)'\n"
          ]
        }
      ]
    },
    {
      "cell_type": "code",
      "source": [
        "graph = {}\n",
        "for line in node_lines:\n",
        "    node, connections = line.split(\"=\")\n",
        "    node = node.strip()  # Remove whitespace\n",
        "    # Remove parentheses and split on comma, then strip whitespace from each\n",
        "    connections = connections.strip()[1:-1].split(\",\")  # [1:-1] removes first and last char - the parentheses\n",
        "    connections = [x.strip() for x in connections]\n",
        "    graph[node] = connections\n",
        "\n",
        "print(graph)"
      ],
      "metadata": {
        "colab": {
          "base_uri": "https://localhost:8080/"
        },
        "id": "Frbq29oJtftk",
        "outputId": "55f9e375-32ef-4055-b06a-454f292d28ed"
      },
      "execution_count": 7,
      "outputs": [
        {
          "output_type": "stream",
          "name": "stdout",
          "text": [
            "{'AAA': ['BBB', 'CCC'], 'BBB': ['DDD', 'EEE'], 'CCC': ['ZZZ', 'GGG'], 'DDD': ['DDD', 'DDD'], 'EEE': ['EEE', 'EEE'], 'GGG': ['GGG', 'GGG'], 'ZZZ': ['ZZZ', 'ZZZ']}\n"
          ]
        }
      ]
    },
    {
      "cell_type": "code",
      "source": [
        "graph[\"AAA\"][0]"
      ],
      "metadata": {
        "colab": {
          "base_uri": "https://localhost:8080/",
          "height": 35
        },
        "id": "AqxOCL0JtvXn",
        "outputId": "7027d5b4-a133-4114-c10d-a5fc6761882d"
      },
      "execution_count": 10,
      "outputs": [
        {
          "output_type": "execute_result",
          "data": {
            "text/plain": [
              "'BBB'"
            ],
            "application/vnd.google.colaboratory.intrinsic+json": {
              "type": "string"
            }
          },
          "metadata": {},
          "execution_count": 10
        }
      ]
    },
    {
      "cell_type": "code",
      "source": [
        "instructions = \"LR\"\n",
        "current_instruction = 0 % len(instructions)\n",
        "current_instruction =  instructions[current_instruction]\n",
        "current_instruction"
      ],
      "metadata": {
        "colab": {
          "base_uri": "https://localhost:8080/",
          "height": 35
        },
        "id": "Nu4dIFY4xvC6",
        "outputId": "303b3392-7ae0-4e9d-d7d9-bf94e2f2896e"
      },
      "execution_count": 12,
      "outputs": [
        {
          "output_type": "execute_result",
          "data": {
            "text/plain": [
              "'L'"
            ],
            "application/vnd.google.colaboratory.intrinsic+json": {
              "type": "string"
            }
          },
          "metadata": {},
          "execution_count": 12
        }
      ]
    },
    {
      "cell_type": "code",
      "source": [
        "def find_path(graph, instructions, start='AAA', target='ZZZ'):\n",
        "    steps = 0               # Counter for steps taken\n",
        "    current_node = start    # Track where we are\n",
        "\n",
        "    while current_node != target:\n",
        "        # Get current instruction using modulo to cycle through instructions\n",
        "        current_instruction = instructions[steps % len(instructions)]\n",
        "\n",
        "        # Choose path based on instruction\n",
        "        if current_instruction == \"L\":\n",
        "            current_node = graph[current_node][0]\n",
        "        else:\n",
        "            current_node = graph[current_node][1]\n",
        "\n",
        "        steps += 1\n",
        "\n",
        "    return steps"
      ],
      "metadata": {
        "id": "2OGWhr0eyeM0"
      },
      "execution_count": 13,
      "outputs": []
    },
    {
      "cell_type": "code",
      "source": [
        "find_path(graph, \"RL\")"
      ],
      "metadata": {
        "colab": {
          "base_uri": "https://localhost:8080/"
        },
        "id": "MQybNaWCyu3s",
        "outputId": "c666b876-c541-4251-e3cb-ce7c78a1ca36"
      },
      "execution_count": 14,
      "outputs": [
        {
          "output_type": "execute_result",
          "data": {
            "text/plain": [
              "2"
            ]
          },
          "metadata": {},
          "execution_count": 14
        }
      ]
    },
    {
      "cell_type": "code",
      "source": [
        "def parse_input(input_text):\n",
        "    # Split into lines and get instructions and node definitions\n",
        "    lines = input_text.splitlines()\n",
        "\n",
        "    # First line is the instructions\n",
        "    instructions = lines[0]\n",
        "\n",
        "    # Initialize empty graph\n",
        "    graph = {}\n",
        "\n",
        "    # Process remaining lines for node definitions\n",
        "    for line in lines[1:]:\n",
        "        # Skip empty lines if any\n",
        "        if not line.strip():\n",
        "            continue\n",
        "\n",
        "        # Split into node and connections\n",
        "        node, connections = line.split(\"=\")\n",
        "        node = node.strip()\n",
        "\n",
        "        # Clean up the connections string and split into left/right\n",
        "        # Remove parentheses and split on comma\n",
        "        connections = connections.strip()[1:-1].split(\",\")\n",
        "        # Clean up whitespace from each connection\n",
        "        connections = [x.strip() for x in connections]\n",
        "\n",
        "        # Add to graph\n",
        "        graph[node] = connections\n",
        "\n",
        "    return instructions, graph"
      ],
      "metadata": {
        "id": "MSuhIq2mzH8p"
      },
      "execution_count": 15,
      "outputs": []
    },
    {
      "cell_type": "code",
      "source": [],
      "metadata": {
        "id": "-YeOCvQyzIkA"
      },
      "execution_count": null,
      "outputs": []
    }
  ]
}